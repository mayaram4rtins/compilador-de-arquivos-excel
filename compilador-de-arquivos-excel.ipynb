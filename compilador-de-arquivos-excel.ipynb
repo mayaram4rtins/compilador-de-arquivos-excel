{
 "cells": [
  {
   "cell_type": "markdown",
   "id": "90547203",
   "metadata": {
    "ExecuteTime": {
     "end_time": "2023-01-21T19:44:13.393480Z",
     "start_time": "2023-01-21T19:44:13.379517Z"
    }
   },
   "source": [
    "<img src=\"Compilador-de-arquivos-excel.png\" width=700 height=200 />"
   ]
  },
  {
   "cell_type": "markdown",
   "id": "e3d450e3",
   "metadata": {},
   "source": [
    "# Definindo bibliotecas"
   ]
  },
  {
   "cell_type": "markdown",
   "id": "de9e557d",
   "metadata": {},
   "source": [
    "Definição das bibliotecas necessárias para o projeto:\n",
    "\n",
    "1. Pandas: responsável pela manipulação das planilhas em excel (ou dataframes);\n",
    "2. Numpy: responsável pela manipulação matemática dentro dos dataframes;\n",
    "3. Datetime: responsável pela manipulação de datas;\n",
    "4. OS: responsável pela manipulação de recursos do windows;"
   ]
  },
  {
   "cell_type": "code",
   "execution_count": null,
   "id": "2e0ff4e5",
   "metadata": {
    "ExecuteTime": {
     "end_time": "2023-01-21T20:01:49.995557Z",
     "start_time": "2023-01-21T20:01:49.610382Z"
    }
   },
   "outputs": [],
   "source": [
    "import pandas as pd\n",
    "import numpy as np\n",
    "import datetime as dt\n",
    "import os\n",
    "import time"
   ]
  },
  {
   "cell_type": "markdown",
   "id": "b8e40b3c",
   "metadata": {
    "ExecuteTime": {
     "end_time": "2023-01-21T17:56:59.338394Z",
     "start_time": "2023-01-21T17:56:59.323463Z"
    }
   },
   "source": [
    "# Iniciando temporizador de processamento"
   ]
  },
  {
   "cell_type": "markdown",
   "id": "29318a3c",
   "metadata": {},
   "source": [
    "Temporizador que iniciar o período de processamento do código. Tem como objetivo avaliar quanto tempo economizado com essa automação."
   ]
  },
  {
   "cell_type": "code",
   "execution_count": null,
   "id": "a0561840",
   "metadata": {
    "ExecuteTime": {
     "end_time": "2023-01-21T20:01:50.010758Z",
     "start_time": "2023-01-21T20:01:49.996525Z"
    }
   },
   "outputs": [],
   "source": [
    "tempo_inicial = (time.time())"
   ]
  },
  {
   "cell_type": "markdown",
   "id": "d06acdef",
   "metadata": {
    "ExecuteTime": {
     "end_time": "2022-12-18T23:41:10.204681Z",
     "start_time": "2022-12-18T23:41:10.198697Z"
    }
   },
   "source": [
    "# Parametrizando usuário"
   ]
  },
  {
   "cell_type": "markdown",
   "id": "89d8d91e",
   "metadata": {},
   "source": [
    "Através da biblioteca OS a função .getlogin() retorna o usuário do computador que está rodando o código."
   ]
  },
  {
   "cell_type": "code",
   "execution_count": null,
   "id": "cc70a523",
   "metadata": {
    "ExecuteTime": {
     "end_time": "2023-01-21T20:01:50.184811Z",
     "start_time": "2023-01-21T20:01:50.167856Z"
    }
   },
   "outputs": [],
   "source": [
    "user = os.getlogin()\n",
    "user"
   ]
  },
  {
   "cell_type": "markdown",
   "id": "8a14d993",
   "metadata": {},
   "source": [
    "# Definindo diretório dos arquivos em excel"
   ]
  },
  {
   "cell_type": "markdown",
   "id": "abce83fe",
   "metadata": {},
   "source": [
    "A função .path.join da biblioteca OS irá retornar o caminho do diretório onde estarão os arquivos excel que serão lidos."
   ]
  },
  {
   "cell_type": "code",
   "execution_count": null,
   "id": "be48cd03",
   "metadata": {
    "ExecuteTime": {
     "end_time": "2023-01-21T20:01:50.607624Z",
     "start_time": "2023-01-21T20:01:50.593661Z"
    }
   },
   "outputs": [],
   "source": [
    "dir1 = os.path.join(user, 'Documentos', 'compilador-de-arquivos-excel')\n",
    "dir1"
   ]
  },
  {
   "cell_type": "markdown",
   "id": "dc261c9c",
   "metadata": {},
   "source": [
    "## Tratamento de dados dentro dos arquivos primários"
   ]
  },
  {
   "cell_type": "markdown",
   "id": "8867f40a",
   "metadata": {},
   "source": [
    "### Abertura do excel em um dataframe\n",
    "\n",
    "Através do pandas, formar um dataframe com o arquivo que será modificado. Para isso, construiu-se dois dataframes com os tratamentos de dados necessários de Vendas PDV: os que estavam relacionados às abas 'Entradas e Saídas' e 'PIS e COFINS débito'"
   ]
  },
  {
   "cell_type": "markdown",
   "id": "e1d5d15d",
   "metadata": {
    "ExecuteTime": {
     "end_time": "2023-01-18T21:04:04.780343Z",
     "start_time": "2023-01-18T21:03:59.060889Z"
    },
    "scrolled": false
   },
   "source": [
    "#### Entradas e Saídas"
   ]
  },
  {
   "cell_type": "markdown",
   "id": "c126c442",
   "metadata": {},
   "source": [
    "# Entradas e Saídas"
   ]
  },
  {
   "cell_type": "code",
   "execution_count": null,
<<<<<<< HEAD
   "id": "99fff773",
   "metadata": {
    "ExecuteTime": {
     "end_time": "2023-01-21T20:01:54.799264Z",
     "start_time": "2023-01-21T20:01:51.202738Z"
    }
   },
   "outputs": [],
   "source": [
    "EntradasSaidas_df = pd.read_excel('Fiscal_ExMG.xlsx', engine='openpyxl', sheet_name='Entradas_Saídas')\n",
    "display(EntradasSaidas_df)"
   ]
  },
  {
   "cell_type": "markdown",
   "id": "5e05b17a",
   "metadata": {},
   "source": [
    "#### PIS e COFINS"
   ]
  },
  {
   "cell_type": "code",
   "execution_count": null,
   "id": "3c68d830",
   "metadata": {
    "ExecuteTime": {
     "end_time": "2023-01-21T20:01:58.617717Z",
     "start_time": "2023-01-21T20:01:54.801244Z"
    }
   },
   "outputs": [],
   "source": [
=======
   "id": "02db9825",
   "metadata": {
    "scrolled": true
   },
   "outputs": [],
   "source": [
    "EntradasSaidas_df = pd.read_excel('Fiscal_ExMG.xlsx', engine='openpyxl', sheet_name='Entradas_Saídas')\n",
    "display(EntradasSaidas_df)"
   ]
  },
  {
   "cell_type": "markdown",
   "id": "00c9d069",
   "metadata": {},
   "source": [
    "# PIS e COFINS"
   ]
  },
  {
   "cell_type": "code",
   "execution_count": null,
   "id": "81770012",
   "metadata": {
    "ExecuteTime": {
     "end_time": "2023-01-15T22:46:34.279860Z",
     "start_time": "2023-01-15T22:46:30.762815Z"
    },
    "scrolled": false
   },
   "outputs": [],
   "source": [
>>>>>>> f9aef466172c097d7d0ec13d43c0757d043168c7
    "PIS_COFINS_df = pd.read_excel('Fiscal_ExMG.xlsx', engine='openpyxl', sheet_name='PIS_COFINS')\n",
    "display(PIS_COFINS_df)"
   ]
  },
  {
   "cell_type": "markdown",
   "id": "8c9fe166",
   "metadata": {},
   "source": [
    "### Manipulando a data da coluna movimento\n",
    "\n",
    "É necessário que o formato final da data nessa coluna seja: d/m/y"
   ]
  },
  {
   "cell_type": "markdown",
   "id": "19bc72a4",
   "metadata": {
    "ExecuteTime": {
     "end_time": "2023-01-21T17:11:42.313686Z",
     "start_time": "2023-01-21T17:11:42.297727Z"
    }
   },
   "source": [
    "#### Entradas e Saidas"
   ]
  },
  {
   "cell_type": "code",
   "execution_count": null,
   "id": "ea2df2b7",
   "metadata": {
    "ExecuteTime": {
     "end_time": "2023-01-21T20:01:58.743380Z",
     "start_time": "2023-01-21T20:01:58.618714Z"
    },
    "scrolled": true
   },
   "outputs": [],
   "source": [
<<<<<<< HEAD
    "EntradasSaidas_df['Movimento'] = pd.to_datetime(EntradasSaidas_df['Movimento'], format='%Y-%m-%d', errors='coerce')\n",
    "EntradasSaidas_df['Movimento'] = EntradasSaidas_df['Movimento'].astype('datetime64[ns]')\n",
    "EntradasSaidas_df['Movimento'] = EntradasSaidas_df['Movimento'].dt.strftime(\"%d/%m/%Y\")\n",
    "EntradasSaidas_df['Movimento']"
   ]
  },
  {
   "cell_type": "markdown",
   "id": "2d61a0c8",
   "metadata": {},
   "source": [
    "#### PIS e COFINS"
=======
    "PIS_COFINS_df['Movimento'] = pd.to_datetime(PIS_COFINS_df['Movimento'], format='%Y-%m-%d', errors='coerce')\n",
    "PIS_COFINS_df['Movimento'] = PIS_COFINS_df['Movimento'].astype('datetime64[ns]')\n",
    "PIS_COFINS_df['Movimento'] = PIS_COFINS_df['Movimento'].dt.strftime(\"%d/%m/%Y\")\n",
    "PIS_COFINS_df['Movimento']"
>>>>>>> f9aef466172c097d7d0ec13d43c0757d043168c7
   ]
  },
  {
   "cell_type": "code",
   "execution_count": null,
<<<<<<< HEAD
   "id": "2ecfb7fe",
   "metadata": {
    "ExecuteTime": {
     "end_time": "2023-01-21T20:01:58.867051Z",
     "start_time": "2023-01-21T20:01:58.745375Z"
    }
   },
   "outputs": [],
   "source": [
    "PIS_COFINS_df['Movimento'] = pd.to_datetime(PIS_COFINS_df['Movimento'], format='%Y-%m-%d', errors='coerce')\n",
    "PIS_COFINS_df['Movimento'] = PIS_COFINS_df['Movimento'].astype('datetime64[ns]')\n",
    "PIS_COFINS_df['Movimento'] = PIS_COFINS_df['Movimento'].dt.strftime(\"%d/%m/%Y\")\n",
    "PIS_COFINS_df['Movimento']"
=======
   "id": "d6994d7b",
   "metadata": {},
   "outputs": [],
   "source": [
    "EntradasSaidas_df['Movimento'] = pd.to_datetime(EntradasSaidas_df['Movimento'], format='%Y-%m-%d', errors='coerce')\n",
    "EntradasSaidas_df['Movimento'] = EntradasSaidas_df['Movimento'].astype('datetime64[ns]')\n",
    "EntradasSaidas_df['Movimento'] = EntradasSaidas_df['Movimento'].dt.strftime(\"%d/%m/%Y\")\n",
    "EntradasSaidas_df['Movimento']"
>>>>>>> f9aef466172c097d7d0ec13d43c0757d043168c7
   ]
  },
  {
   "cell_type": "markdown",
   "id": "13ff399a",
   "metadata": {},
   "source": [
    "## Soma de formulário com nomes vazios"
   ]
  },
  {
   "cell_type": "markdown",
<<<<<<< HEAD
   "id": "ac74d3f1",
   "metadata": {
    "ExecuteTime": {
     "end_time": "2023-01-21T17:12:59.957232Z",
     "start_time": "2023-01-21T17:12:59.943270Z"
    }
   },
   "source": [
    "#### Entradas e Saidas"
=======
   "id": "956dfe9c",
   "metadata": {},
   "source": [
    "### PIS e COFINS"
   ]
  },
  {
   "cell_type": "markdown",
   "id": "6e145f29",
   "metadata": {},
   "source": [
    "Somar valores de \"PIS Débito\" e \"COFINS Débito\" que são de \"Formulário: Venda PDV\" na mesma data de \"Movimento\" e da mesma \"Empresa\"."
>>>>>>> f9aef466172c097d7d0ec13d43c0757d043168c7
   ]
  },
  {
   "cell_type": "markdown",
   "id": "35a8ce4b",
   "metadata": {},
   "source": [
    "Somar valor contábil e ICMS crédito/débito que são de \"Formulário: Venda PDV\" na mesma data de \"Movimento\" e da mesma \"Empresa\". Para isso agrupou-se as colunas relacionadas e somou-se os valores de acordo com as condições"
   ]
  },
  {
   "cell_type": "markdown",
   "id": "0e2cc14e",
   "metadata": {},
   "source": [
    "#### Atribuindo Nome Em formulários sem valor atribuido."
   ]
  },
  {
   "cell_type": "code",
   "execution_count": null,
<<<<<<< HEAD
=======
   "id": "7e77adcb",
   "metadata": {},
   "outputs": [],
   "source": [
    "PIS_COFINS_df['Formulário'] = PIS_COFINS_df['Formulário'].fillna('Vendas PDV')\n",
    "display(PIS_COFINS_df)\n"
   ]
  },
  {
   "cell_type": "markdown",
   "id": "7c2a3573",
   "metadata": {},
   "source": [
    "#### Destacando Formulários, Empresas, Movimento,  COFINS Débito e PIS Débito em relação às Vendas PDV do DataFrame."
   ]
  },
  {
   "cell_type": "code",
   "execution_count": null,
   "id": "4d4d3831",
   "metadata": {},
   "outputs": [],
   "source": [
    "VendasPDV_PisCofins_df = PIS_COFINS_df.loc[PIS_COFINS_df['Formulário'] == 'Vendas PDV', ['Formulário',\n",
    "                                                                                'Tipo E/S', 'Empresa',\n",
    "                                                                                'Movimento', 'Emissão', \n",
    "                                                                                'COFINS Débito', 'PIS Débito']]                                           \n",
    "display(VendasPDV_PisCofins_df)\n"
   ]
  },
  {
   "cell_type": "markdown",
   "id": "01dfd1e1",
   "metadata": {},
   "source": [
    "#### Somando COFINS Débito e PIS Débito de mesma data de Movimento e Empresa."
   ]
  },
  {
   "cell_type": "code",
   "execution_count": null,
   "id": "a5f37011",
   "metadata": {
    "scrolled": true
   },
   "outputs": [],
   "source": [
    "SomaVendasPDV_PisCofins_df = VendasPDV_PisCofins_df.groupby(['Formulário', 'Tipo E/S', \n",
    "                                                    'Empresa', 'Movimento' \n",
    "                                                    ])[['COFINS Débito', 'PIS Débito']].sum().reset_index()\n",
    "display(SomaVendasPDV_PisCofins_df)"
   ]
  },
  {
   "cell_type": "markdown",
   "id": "f14f938e",
   "metadata": {},
   "source": [
    "### Entradas e Saídas"
   ]
  },
  {
   "cell_type": "markdown",
   "id": "205703ea",
   "metadata": {},
   "source": [
    "Somar valor contábil e ICMS crédito/débito que são de \"Formulário: Venda PDV\" na mesma data de \"Movimento\" e da mesma \"Empresa\""
   ]
  },
  {
   "cell_type": "markdown",
   "id": "1a31f539",
   "metadata": {},
   "source": [
    "Alterando a coluna de movimento para formatação de data que será utilizado posteriormente"
   ]
  },
  {
   "cell_type": "code",
   "execution_count": null,
>>>>>>> f9aef466172c097d7d0ec13d43c0757d043168c7
   "id": "201f190d",
   "metadata": {
    "ExecuteTime": {
     "end_time": "2023-01-21T20:01:58.899050Z",
     "start_time": "2023-01-21T20:01:58.868048Z"
    },
    "scrolled": false
   },
   "outputs": [],
   "source": [
<<<<<<< HEAD
    "Agrupamento_EntradasSaidas_df = EntradasSaidas_df.loc[EntradasSaidas_df['Formulário'] == 'Vendas PDV',\n",
    "                                 [\"Formulário\", \"Movimento\", \"Empresa\", \"Valor Contábil\", \n",
=======
    "vendas_pdv_df = EntradasSaidas_df.loc[EntradasSaidas_df['Formulário'] == 'Vendas PDV',\n",
    "                                 [\"Formulário\", \"Tipo E/S\", \"Movimento\", \"Empresa\", \"Valor Contábil\", \n",
>>>>>>> f9aef466172c097d7d0ec13d43c0757d043168c7
    "                                  \"ICMS Crédito / Débito\"]]\n",
    "\n",
    "display(Agrupamento_EntradasSaidas_df)"
   ]
  },
  {
   "cell_type": "code",
   "execution_count": null,
   "id": "0e02d49f",
   "metadata": {
    "ExecuteTime": {
     "end_time": "2023-01-21T20:01:58.930060Z",
     "start_time": "2023-01-21T20:01:58.900048Z"
    }
   },
   "outputs": [],
   "source": [
    "SomaVendasPDV_EntradasSaidas_df = Agrupamento_EntradasSaidas_df.groupby(['Formulário',\n",
    "                                         'Empresa',\n",
    "                                         'Movimento'])[['Valor Contábil', \n",
    "                                                        'ICMS Crédito / Débito']].sum().reset_index()\n",
    "\n",
    "display(SomaVendasPDV_EntradasSaidas_df)"
   ]
  },
  {
   "cell_type": "markdown",
   "id": "1d13e79a",
   "metadata": {},
   "source": [
    "#### PIS e COFINS"
   ]
  },
  {
   "cell_type": "markdown",
   "id": "cb384dbe",
   "metadata": {},
   "source": [
    "Somar PIS e COFINS débito que são de \"Formulário: Vendas PDV\" na mesma data de \"Movimento\" e da mesma \"Empresa\". Para isso, atribuiu-se à formulários que eram vazios (NaN) o valor \"Vendas PDV\", agrupou-se as colunas relacionadas e somou-se os valores de acordo com as condições."
   ]
  },
  {
   "cell_type": "code",
   "execution_count": null,
   "id": "47344c8a",
   "metadata": {
    "ExecuteTime": {
     "end_time": "2023-01-21T20:01:58.976936Z",
     "start_time": "2023-01-21T20:01:58.931060Z"
    },
    "scrolled": true
   },
   "outputs": [],
   "source": [
    "PIS_COFINS_df['Formulário'] = PIS_COFINS_df['Formulário'].fillna('Vendas PDV')\n",
    "display(PIS_COFINS_df)"
   ]
  },
  {
   "cell_type": "code",
   "execution_count": null,
   "id": "4bfa05df",
   "metadata": {
    "ExecuteTime": {
     "end_time": "2023-01-21T20:01:59.007857Z",
     "start_time": "2023-01-21T20:01:58.977933Z"
    }
   },
   "outputs": [],
   "source": [
    "Agrupamento_PISCOFINS_df = PIS_COFINS_df.loc[PIS_COFINS_df['Formulário'] == 'Vendas PDV', \n",
    "                                                                            ['Formulário',\n",
    "                                                                             'Empresa', \n",
    "                                                                             'Movimento',\n",
    "                                                                             'COFINS Débito', \n",
    "                                                                             'PIS Débito']]                                           \n",
    "display(Agrupamento_PISCOFINS_df)"
   ]
  },
  {
   "cell_type": "code",
   "execution_count": null,
   "id": "4d24515c",
   "metadata": {
    "ExecuteTime": {
     "end_time": "2023-01-21T20:01:59.038718Z",
     "start_time": "2023-01-21T20:01:59.008707Z"
    }
   },
   "outputs": [],
   "source": [
    "SomaVendasPDV_PISCOFINS_df = Agrupamento_PISCOFINS_df.groupby(['Formulário',\n",
    "                                                    'Empresa', 'Movimento' \n",
    "                                                    ])[['COFINS Débito', 'PIS Débito']].sum().reset_index()\n",
    "display(SomaVendasPDV_PISCOFINS_df)"
   ]
  },
  {
   "cell_type": "markdown",
<<<<<<< HEAD
   "id": "d7e5cce3",
   "metadata": {
    "ExecuteTime": {
     "end_time": "2023-01-15T22:38:15.555134Z",
     "start_time": "2023-01-15T22:38:15.536156Z"
    }
   },
   "source": [
    "## Construção do arquivo final"
   ]
  },
  {
   "cell_type": "markdown",
=======
>>>>>>> f9aef466172c097d7d0ec13d43c0757d043168c7
   "id": "e092ea76",
   "metadata": {},
   "source": [
    "### Condição para arquivo final"
   ]
  },
  {
   "cell_type": "markdown",
   "id": "5755a5d4",
   "metadata": {},
   "source": [
    "O arquivo final consiste em tratamento de colunas já existentes e adição de novas que são as que o sistema lê e processa os dados finais.\n",
    "\n",
    "Para tal, têm-se as seguintes colunas existentes e de onde derivam:\n",
    "\n",
    "1. **DATA** = Movimento;\n",
    "2. **Valor** = ICMS Crédito e Débito, PIS Crédito e Débito, Cofins Crédito e Débito, Entradas e Saidas;\n",
    "3. **Complemento Histórico** = Formulário & condições do DePara;\n",
    "4. **Código Matriz/Filial** = nº da empresa + 22000 (Ex: 22112);\n",
    "\n",
    "Além disso, têm-se a inclusão das seguintes colunas:\n",
    "\n",
    "1. **Cód. Histórico** = 1;\n",
    "2. **Inicia Lote** = 1;\n",
    "3. **Centro de Custo Débito** = NaN (vazio);\n",
    "4. **Centro de Custo Crédito** = NaN (vazio);\n",
    "5. **Cód. Contábil Crédito** = Valores parametrizados no DePara;\n",
    "6. **Cód. Contábil Débito** = Valores parametrizados no DePara;"
   ]
  },
  {
   "cell_type": "markdown",
   "id": "69940a6b",
   "metadata": {},
   "source": [
    "#### Valor Contábil e ICMS Crédito/Débito"
   ]
  },
  {
   "cell_type": "code",
   "execution_count": null,
   "id": "3275d190",
   "metadata": {
    "ExecuteTime": {
     "end_time": "2023-01-21T20:14:30.732285Z",
     "start_time": "2023-01-21T20:14:30.707352Z"
    }
   },
   "outputs": [],
   "source": [
    "Outros_Valores_EntradasSaidas_df = EntradasSaidas_df.loc[EntradasSaidas_df['Formulário'] != 'Vendas PDV',\n",
    "                                 [\"Formulário\", \"Movimento\", \"Empresa\", \"Valor Contábil\", \n",
    "                                  \"ICMS Crédito / Débito\"]]\n",
    "\n",
    "Outros_Valores_EntradasSaidas_df = Colunas_Arquivo_Final_EntradasSaidas_df.sort_values(by='Movimento').reset_index()\n",
    "Outros_Valores_EntradasSaidas_df\n",
    "\n",
    "Colunas_Arquivo_Final_df = SomaVendasPDV_EntradasSaidas_df.append(Outros_Valores_EntradasSaidas_df, ignore_index=True)\n",
    "Colunas_Arquivo_Final_df"
   ]
  },
  {
   "cell_type": "markdown",
   "id": "ef86f778",
   "metadata": {},
   "source": [
    "#### PIS e COFINS Crédito e Débito"
   ]
  },
  {
   "cell_type": "code",
   "execution_count": null,
   "id": "9bab5eda",
   "metadata": {},
   "outputs": [],
   "source": [
    "Colunas_Arquivo_Final_PISCOFINS_df = PIS_COFINS_df.groupby(['Formulário',\n",
    "                                                    'Empresa', 'Movimento'])[['COFINS Débito', \n",
    "                                                                              'PIS Débito']]\n",
    "Colunas_Arquivo_Final_PISCOFINS_df"
   ]
  },
  {
   "cell_type": "markdown",
   "id": "351e31bb",
   "metadata": {
    "heading_collapsed": true
   },
   "source": [
    "#### dePara_VlrContábil_e_ICMS"
   ]
  },
  {
   "cell_type": "markdown",
   "id": "0391219b",
   "metadata": {
    "hidden": true
   },
   "source": [
    "1. Vendas PDV: contábil credito: 319, contabil debito 37\n",
    "\n",
    "\n",
    "2. ICMS s/ Vendas PDV: contabil credito: 243, contabil debito 327\n",
    "\n",
    "\n",
    "3. PIS s/ Vendas PDV: credito 246, debito 329\n",
    "\n",
    "\n",
    "4. COFINS s/ Vendas PDV: credito 241, debito 326\n",
    "\n",
    "\n",
    "5. Nota de Devolução de Compras + NF e coluna numero + coluna nome: credito 80, debito 204\n",
    "\n",
    "\n",
    "6. Digitação de NF de Faturamento + NF e coluna numero + coluna nome (saída):  \n",
    "    Se CFOPS 5927, debito 592, credito 80\n",
    "    Se CFOPS diferente de 5927 mas o NOME é DrogaEx, credito 80, debito 92\n",
    "    Se CFOPS diferente de tudo isso, credito 341, debito 144\n",
    "\n",
    "\n",
    "7. ICMS s/ Digitação de NF de Faturamento + NF e coluna numero + coluna nome (saída): credito 243, debito 347\n",
    "\n",
    "\n",
    "8. Digitação de NF de Faturamento + NF e coluna numero + coluna nome (entrada):  \n",
    "    Se o NOME é DrogaEx, credito 93, debito 80\n",
    "  \n",
    "  \n",
    "9. ICMS s/ Digitação de NF de Faturamento + NF e coluna numero + coluna nome (entradas): credito 80, debito 59\n",
    "\n",
    "\n",
    "10. Devolução de Produtos Caixas + NF e coluna numero + coluna nome: credito 41, debito 332\n",
    "\n",
    "\n",
    "11. ICMS s/ Devolução de Produtos Caixas + NF e coluna numero + coluna nome: credito 80, debito 59\n",
    "\n",
    "\n",
    "12. Nota Fiscal de Compra e Outras Entradas + NF e coluna numero + coluna nome: \n",
    "    Se o NOME é DBR ou conter, credito 10055 e debito 374\n",
    "    Se o NOME é ou contém BETOFARMA, DELMAR, DOTTO, DEMAC, DROGAEX, EX NG, POA, METROFARMA,    MIYAFARMA, NOVA CAIEIRAS e DROGAROMERO, credito 217 e debito 80\n",
    "    Se o NOME é diferente disso tudo, credito 204, debito 80\n",
    "\n",
    "    \n",
    "13. ICMS s/ Nota Fiscal de Compra e Outras Entradas + NF e coluna numero + coluna nome: credito 80, debito 59"
   ]
  },
  {
   "cell_type": "markdown",
   "id": "11fcc949",
   "metadata": {
    "heading_collapsed": true
   },
   "source": [
    "#### dePara_PIS_e_COFINS"
   ]
  },
  {
   "cell_type": "markdown",
   "id": "2bb25df1",
   "metadata": {
    "hidden": true
   },
   "source": [
    "1. Tudo que for TIPO E/S: E, PIS (debito 63 e credito 80) e COFINS (debito 57 e credito 80)\n",
    "\n",
    "\n",
    "2. Tudo que for TIPO E/S: S, PIS (debito 63 e credito 80) e COFINS (debito 57 e credito 80)\n",
    "    PIS: Digitação de NF de Faturamento + NF e coluna numero + coluna nome (saída): credito 246, debito 349\n",
    "\n",
    "    \n",
    "    COFINS: Digitação de NF de Faturamento + NF e coluna numero + coluna nome (saída): credito 241, debito 346"
   ]
  },
  {
   "cell_type": "code",
   "execution_count": null,
   "id": "02d0f7b6",
   "metadata": {
    "hidden": true
   },
   "outputs": [],
   "source": []
  },
  {
   "cell_type": "markdown",
   "id": "c0010bfa",
   "metadata": {},
   "source": [
    "# Finalizando o temporizador de processamento"
   ]
  },
  {
   "cell_type": "markdown",
   "id": "3b543489",
   "metadata": {
    "ExecuteTime": {
     "end_time": "2023-01-21T17:59:36.908548Z",
     "start_time": "2023-01-21T17:59:36.893586Z"
    }
   },
   "source": [
    "Finalização do temporizador que indica qual o período que o processo foi realizado."
   ]
  },
  {
   "cell_type": "code",
   "execution_count": null,
   "id": "a5ad562a",
   "metadata": {
    "ExecuteTime": {
     "end_time": "2023-01-21T18:48:58.127655Z",
     "start_time": "2023-01-21T18:48:58.108705Z"
    }
   },
   "outputs": [],
   "source": [
    "tempo_final = (time.time())\n",
    "\n",
    "tempo_total = tempo_final - tempo_inicial\n",
    "\n",
    "print(f\"{tempo_total} segundos\")"
   ]
  },
  {
   "cell_type": "code",
   "execution_count": null,
   "id": "b69783e6",
   "metadata": {},
   "outputs": [],
   "source": []
  }
 ],
 "metadata": {
  "kernelspec": {
   "display_name": "Python 3 (ipykernel)",
   "language": "python",
   "name": "python3"
  },
  "language_info": {
   "codemirror_mode": {
    "name": "ipython",
    "version": 3
   },
   "file_extension": ".py",
   "mimetype": "text/x-python",
   "name": "python",
   "nbconvert_exporter": "python",
   "pygments_lexer": "ipython3",
   "version": "3.9.12"
  },
  "toc": {
   "base_numbering": 1,
   "nav_menu": {},
   "number_sections": true,
   "sideBar": true,
   "skip_h1_title": false,
   "title_cell": "Table of Contents",
   "title_sidebar": "Contents",
   "toc_cell": false,
   "toc_position": {
    "height": "calc(100% - 180px)",
    "left": "10px",
    "top": "150px",
    "width": "376px"
   },
   "toc_section_display": true,
   "toc_window_display": true
  },
  "vscode": {
   "interpreter": {
    "hash": "8b8a26b70b4daa1db1fbdf15c0cffe35aca51e851a954a9a45a5e8a5a905b65c"
   }
  }
 },
 "nbformat": 4,
 "nbformat_minor": 5
}
