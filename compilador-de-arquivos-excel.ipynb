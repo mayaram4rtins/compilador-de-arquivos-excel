{
 "cells": [
  {
   "cell_type": "markdown",
   "id": "005bd40b",
   "metadata": {},
   "source": [
    "## Definindo bibliotecas"
   ]
  },
  {
   "cell_type": "markdown",
   "id": "de9e557d",
   "metadata": {},
   "source": [
    "Definição das bibliotecas necessárias para o projeto:\n",
    "\n",
    "1. Pandas: responsável pela manipulação das planilhas em excel (ou dataframes);\n",
    "2. Numpy: responsável pela manipulação matemática dentro dos dataframes;\n",
    "3. Datetime: responsável pela manipulação de datas;\n",
    "4. OS: responsável pela manipulação de recursos do windows;"
   ]
  },
  {
   "cell_type": "code",
   "execution_count": 2,
   "id": "2e0ff4e5",
   "metadata": {
    "ExecuteTime": {
     "end_time": "2023-01-15T22:46:30.000278Z",
     "start_time": "2023-01-15T22:46:29.245904Z"
    }
   },
   "outputs": [],
   "source": [
    "import pandas as pd\n",
    "import numpy as np\n",
    "import datetime as dt\n",
    "import os"
   ]
  },
  {
   "cell_type": "markdown",
   "id": "d06acdef",
   "metadata": {
    "ExecuteTime": {
     "end_time": "2022-12-18T23:41:10.204681Z",
     "start_time": "2022-12-18T23:41:10.198697Z"
    }
   },
   "source": [
    "## Parametrizando usuário"
   ]
  },
  {
   "cell_type": "markdown",
   "id": "89d8d91e",
   "metadata": {},
   "source": [
    "Através da biblioteca OS a função .getlogin() retorna o usuário do computador que está rodando o código."
   ]
  },
  {
   "cell_type": "code",
   "execution_count": 3,
   "id": "cc70a523",
   "metadata": {
    "ExecuteTime": {
     "end_time": "2023-01-15T22:46:30.016239Z",
     "start_time": "2023-01-15T22:46:30.001275Z"
    }
   },
   "outputs": [
    {
     "data": {
      "text/plain": [
       "'mayaram4rtins'"
      ]
     },
     "execution_count": 3,
     "metadata": {},
     "output_type": "execute_result"
    }
   ],
   "source": [
    "user = os.getlogin()\n",
    "user"
   ]
  },
  {
   "cell_type": "markdown",
   "id": "8a14d993",
   "metadata": {},
   "source": [
    "## Definindo diretório dos arquivos em excel"
   ]
  },
  {
   "cell_type": "markdown",
   "id": "abce83fe",
   "metadata": {},
   "source": [
    "A função .path.join da biblioteca OS irá retornar o caminho do diretório onde estarão os arquivos excel que serão lidos."
   ]
  },
  {
   "cell_type": "code",
   "execution_count": 4,
   "id": "be48cd03",
   "metadata": {
    "ExecuteTime": {
     "end_time": "2023-01-15T22:46:30.356882Z",
     "start_time": "2023-01-15T22:46:30.339896Z"
    }
   },
   "outputs": [
    {
     "data": {
      "text/plain": [
       "'mayaram4rtins\\\\Documentos\\\\compilador-de-arquivos-excel'"
      ]
     },
     "execution_count": 4,
     "metadata": {},
     "output_type": "execute_result"
    }
   ],
   "source": [
    "dir1 = os.path.join(user, 'Documentos', 'compilador-de-arquivos-excel')\n",
    "dir1"
   ]
  },
  {
   "cell_type": "markdown",
   "id": "dc261c9c",
   "metadata": {},
   "source": [
    "## Tratamento de dados dentro dos arquivos primários"
   ]
  },
  {
   "cell_type": "markdown",
   "id": "8867f40a",
   "metadata": {},
   "source": [
    "### Abertura do excel em um dataframe\n",
    "\n",
    "Através do pandas, formar um dataframe com o arquivo que será modificado"
   ]
  },
  {
   "cell_type": "code",
   "execution_count": 5,
   "id": "81770012",
   "metadata": {
    "ExecuteTime": {
     "end_time": "2023-01-15T22:46:34.279860Z",
     "start_time": "2023-01-15T22:46:30.762815Z"
    },
    "scrolled": true
   },
   "outputs": [
    {
     "data": {
      "text/html": [
       "<div>\n",
       "<style scoped>\n",
       "    .dataframe tbody tr th:only-of-type {\n",
       "        vertical-align: middle;\n",
       "    }\n",
       "\n",
       "    .dataframe tbody tr th {\n",
       "        vertical-align: top;\n",
       "    }\n",
       "\n",
       "    .dataframe thead th {\n",
       "        text-align: right;\n",
       "    }\n",
       "</style>\n",
       "<table border=\"1\" class=\"dataframe\">\n",
       "  <thead>\n",
       "    <tr style=\"text-align: right;\">\n",
       "      <th></th>\n",
       "      <th>Registro</th>\n",
       "      <th>Formulário</th>\n",
       "      <th>Tipo E/S</th>\n",
       "      <th>Empresa Contábil</th>\n",
       "      <th>Empresa</th>\n",
       "      <th>Movimento</th>\n",
       "      <th>Emissão</th>\n",
       "      <th>NF Número</th>\n",
       "      <th>ECF Caixa</th>\n",
       "      <th>ECF Série</th>\n",
       "      <th>...</th>\n",
       "      <th>CFOp</th>\n",
       "      <th>ICMS CST</th>\n",
       "      <th>Valor Contábil</th>\n",
       "      <th>ICMS Base Cálc.</th>\n",
       "      <th>ICMS Aliq.</th>\n",
       "      <th>ICMS Crédito / Débito</th>\n",
       "      <th>ICMS Isento</th>\n",
       "      <th>ICMS Outros</th>\n",
       "      <th>ICMS ST Valor</th>\n",
       "      <th>Observações</th>\n",
       "    </tr>\n",
       "  </thead>\n",
       "  <tbody>\n",
       "    <tr>\n",
       "      <th>0</th>\n",
       "      <td>18448</td>\n",
       "      <td>Vendas PDV</td>\n",
       "      <td>S</td>\n",
       "      <td>4</td>\n",
       "      <td>4</td>\n",
       "      <td>2022-01-01</td>\n",
       "      <td>2022-01-01</td>\n",
       "      <td>18448</td>\n",
       "      <td>6.0</td>\n",
       "      <td>871652.0</td>\n",
       "      <td>...</td>\n",
       "      <td>5405</td>\n",
       "      <td>60</td>\n",
       "      <td>34.20</td>\n",
       "      <td>0.00</td>\n",
       "      <td>0.0</td>\n",
       "      <td>0.00</td>\n",
       "      <td>0.0</td>\n",
       "      <td>34.20</td>\n",
       "      <td>0</td>\n",
       "      <td>NaN</td>\n",
       "    </tr>\n",
       "    <tr>\n",
       "      <th>1</th>\n",
       "      <td>18449</td>\n",
       "      <td>Vendas PDV</td>\n",
       "      <td>S</td>\n",
       "      <td>4</td>\n",
       "      <td>4</td>\n",
       "      <td>2022-01-01</td>\n",
       "      <td>2022-01-01</td>\n",
       "      <td>18449</td>\n",
       "      <td>6.0</td>\n",
       "      <td>871652.0</td>\n",
       "      <td>...</td>\n",
       "      <td>5405</td>\n",
       "      <td>60</td>\n",
       "      <td>19.99</td>\n",
       "      <td>0.00</td>\n",
       "      <td>0.0</td>\n",
       "      <td>0.00</td>\n",
       "      <td>0.0</td>\n",
       "      <td>19.99</td>\n",
       "      <td>0</td>\n",
       "      <td>NaN</td>\n",
       "    </tr>\n",
       "    <tr>\n",
       "      <th>2</th>\n",
       "      <td>18450</td>\n",
       "      <td>Vendas PDV</td>\n",
       "      <td>S</td>\n",
       "      <td>4</td>\n",
       "      <td>4</td>\n",
       "      <td>2022-01-01</td>\n",
       "      <td>2022-01-01</td>\n",
       "      <td>18450</td>\n",
       "      <td>6.0</td>\n",
       "      <td>871652.0</td>\n",
       "      <td>...</td>\n",
       "      <td>5405</td>\n",
       "      <td>60</td>\n",
       "      <td>20.99</td>\n",
       "      <td>0.00</td>\n",
       "      <td>0.0</td>\n",
       "      <td>0.00</td>\n",
       "      <td>0.0</td>\n",
       "      <td>20.99</td>\n",
       "      <td>0</td>\n",
       "      <td>NaN</td>\n",
       "    </tr>\n",
       "    <tr>\n",
       "      <th>3</th>\n",
       "      <td>18451</td>\n",
       "      <td>Vendas PDV</td>\n",
       "      <td>S</td>\n",
       "      <td>4</td>\n",
       "      <td>4</td>\n",
       "      <td>2022-01-01</td>\n",
       "      <td>2022-01-01</td>\n",
       "      <td>18451</td>\n",
       "      <td>6.0</td>\n",
       "      <td>871652.0</td>\n",
       "      <td>...</td>\n",
       "      <td>5405</td>\n",
       "      <td>60</td>\n",
       "      <td>20.99</td>\n",
       "      <td>0.00</td>\n",
       "      <td>0.0</td>\n",
       "      <td>0.00</td>\n",
       "      <td>0.0</td>\n",
       "      <td>20.99</td>\n",
       "      <td>0</td>\n",
       "      <td>NaN</td>\n",
       "    </tr>\n",
       "    <tr>\n",
       "      <th>4</th>\n",
       "      <td>18452</td>\n",
       "      <td>Vendas PDV</td>\n",
       "      <td>S</td>\n",
       "      <td>4</td>\n",
       "      <td>4</td>\n",
       "      <td>2022-01-01</td>\n",
       "      <td>2022-01-01</td>\n",
       "      <td>18452</td>\n",
       "      <td>6.0</td>\n",
       "      <td>871652.0</td>\n",
       "      <td>...</td>\n",
       "      <td>5405</td>\n",
       "      <td>60</td>\n",
       "      <td>13.36</td>\n",
       "      <td>0.00</td>\n",
       "      <td>0.0</td>\n",
       "      <td>0.00</td>\n",
       "      <td>0.0</td>\n",
       "      <td>13.36</td>\n",
       "      <td>0</td>\n",
       "      <td>NaN</td>\n",
       "    </tr>\n",
       "    <tr>\n",
       "      <th>...</th>\n",
       "      <td>...</td>\n",
       "      <td>...</td>\n",
       "      <td>...</td>\n",
       "      <td>...</td>\n",
       "      <td>...</td>\n",
       "      <td>...</td>\n",
       "      <td>...</td>\n",
       "      <td>...</td>\n",
       "      <td>...</td>\n",
       "      <td>...</td>\n",
       "      <td>...</td>\n",
       "      <td>...</td>\n",
       "      <td>...</td>\n",
       "      <td>...</td>\n",
       "      <td>...</td>\n",
       "      <td>...</td>\n",
       "      <td>...</td>\n",
       "      <td>...</td>\n",
       "      <td>...</td>\n",
       "      <td>...</td>\n",
       "      <td>...</td>\n",
       "    </tr>\n",
       "    <tr>\n",
       "      <th>16259</th>\n",
       "      <td>304917</td>\n",
       "      <td>Vendas PDV</td>\n",
       "      <td>S</td>\n",
       "      <td>4</td>\n",
       "      <td>4</td>\n",
       "      <td>2022-01-31</td>\n",
       "      <td>2022-01-31</td>\n",
       "      <td>304917</td>\n",
       "      <td>2.0</td>\n",
       "      <td>278839.0</td>\n",
       "      <td>...</td>\n",
       "      <td>5405</td>\n",
       "      <td>60</td>\n",
       "      <td>13.90</td>\n",
       "      <td>0.00</td>\n",
       "      <td>0.0</td>\n",
       "      <td>0.00</td>\n",
       "      <td>0.0</td>\n",
       "      <td>13.90</td>\n",
       "      <td>0</td>\n",
       "      <td>NaN</td>\n",
       "    </tr>\n",
       "    <tr>\n",
       "      <th>16260</th>\n",
       "      <td>304918</td>\n",
       "      <td>Vendas PDV</td>\n",
       "      <td>S</td>\n",
       "      <td>4</td>\n",
       "      <td>4</td>\n",
       "      <td>2022-01-31</td>\n",
       "      <td>2022-01-31</td>\n",
       "      <td>304918</td>\n",
       "      <td>2.0</td>\n",
       "      <td>278839.0</td>\n",
       "      <td>...</td>\n",
       "      <td>5405</td>\n",
       "      <td>60</td>\n",
       "      <td>19.97</td>\n",
       "      <td>0.00</td>\n",
       "      <td>0.0</td>\n",
       "      <td>0.00</td>\n",
       "      <td>0.0</td>\n",
       "      <td>19.97</td>\n",
       "      <td>0</td>\n",
       "      <td>NaN</td>\n",
       "    </tr>\n",
       "    <tr>\n",
       "      <th>16261</th>\n",
       "      <td>304919</td>\n",
       "      <td>Vendas PDV</td>\n",
       "      <td>S</td>\n",
       "      <td>4</td>\n",
       "      <td>4</td>\n",
       "      <td>2022-01-31</td>\n",
       "      <td>2022-01-31</td>\n",
       "      <td>304919</td>\n",
       "      <td>2.0</td>\n",
       "      <td>278839.0</td>\n",
       "      <td>...</td>\n",
       "      <td>5405</td>\n",
       "      <td>60</td>\n",
       "      <td>13.89</td>\n",
       "      <td>0.00</td>\n",
       "      <td>0.0</td>\n",
       "      <td>0.00</td>\n",
       "      <td>0.0</td>\n",
       "      <td>13.89</td>\n",
       "      <td>0</td>\n",
       "      <td>NaN</td>\n",
       "    </tr>\n",
       "    <tr>\n",
       "      <th>16262</th>\n",
       "      <td>1143313</td>\n",
       "      <td>Nota Fiscal de Compra e Outras Entradas</td>\n",
       "      <td>E</td>\n",
       "      <td>4</td>\n",
       "      <td>4</td>\n",
       "      <td>2022-01-31</td>\n",
       "      <td>2022-01-27</td>\n",
       "      <td>647725</td>\n",
       "      <td>NaN</td>\n",
       "      <td>NaN</td>\n",
       "      <td>...</td>\n",
       "      <td>1102</td>\n",
       "      <td>0</td>\n",
       "      <td>884.69</td>\n",
       "      <td>884.69</td>\n",
       "      <td>18.0</td>\n",
       "      <td>159.17</td>\n",
       "      <td>0.0</td>\n",
       "      <td>0.00</td>\n",
       "      <td>0</td>\n",
       "      <td>NaN</td>\n",
       "    </tr>\n",
       "    <tr>\n",
       "      <th>16263</th>\n",
       "      <td>1143313</td>\n",
       "      <td>Nota Fiscal de Compra e Outras Entradas</td>\n",
       "      <td>E</td>\n",
       "      <td>4</td>\n",
       "      <td>4</td>\n",
       "      <td>2022-01-31</td>\n",
       "      <td>2022-01-27</td>\n",
       "      <td>647725</td>\n",
       "      <td>NaN</td>\n",
       "      <td>NaN</td>\n",
       "      <td>...</td>\n",
       "      <td>1403</td>\n",
       "      <td>60</td>\n",
       "      <td>11016.09</td>\n",
       "      <td>0.00</td>\n",
       "      <td>0.0</td>\n",
       "      <td>0.00</td>\n",
       "      <td>0.0</td>\n",
       "      <td>11016.09</td>\n",
       "      <td>0</td>\n",
       "      <td>NaN</td>\n",
       "    </tr>\n",
       "  </tbody>\n",
       "</table>\n",
       "<p>16264 rows × 24 columns</p>\n",
       "</div>"
      ],
      "text/plain": [
       "       Registro                               Formulário Tipo E/S  \\\n",
       "0         18448                               Vendas PDV        S   \n",
       "1         18449                               Vendas PDV        S   \n",
       "2         18450                               Vendas PDV        S   \n",
       "3         18451                               Vendas PDV        S   \n",
       "4         18452                               Vendas PDV        S   \n",
       "...         ...                                      ...      ...   \n",
       "16259    304917                               Vendas PDV        S   \n",
       "16260    304918                               Vendas PDV        S   \n",
       "16261    304919                               Vendas PDV        S   \n",
       "16262   1143313  Nota Fiscal de Compra e Outras Entradas        E   \n",
       "16263   1143313  Nota Fiscal de Compra e Outras Entradas        E   \n",
       "\n",
       "       Empresa Contábil  Empresa  Movimento    Emissão  NF Número  ECF Caixa  \\\n",
       "0                     4        4 2022-01-01 2022-01-01      18448        6.0   \n",
       "1                     4        4 2022-01-01 2022-01-01      18449        6.0   \n",
       "2                     4        4 2022-01-01 2022-01-01      18450        6.0   \n",
       "3                     4        4 2022-01-01 2022-01-01      18451        6.0   \n",
       "4                     4        4 2022-01-01 2022-01-01      18452        6.0   \n",
       "...                 ...      ...        ...        ...        ...        ...   \n",
       "16259                 4        4 2022-01-31 2022-01-31     304917        2.0   \n",
       "16260                 4        4 2022-01-31 2022-01-31     304918        2.0   \n",
       "16261                 4        4 2022-01-31 2022-01-31     304919        2.0   \n",
       "16262                 4        4 2022-01-31 2022-01-27     647725        NaN   \n",
       "16263                 4        4 2022-01-31 2022-01-27     647725        NaN   \n",
       "\n",
       "       ECF Série  ...  CFOp  ICMS CST Valor Contábil ICMS Base Cálc.  \\\n",
       "0       871652.0  ...  5405        60          34.20            0.00   \n",
       "1       871652.0  ...  5405        60          19.99            0.00   \n",
       "2       871652.0  ...  5405        60          20.99            0.00   \n",
       "3       871652.0  ...  5405        60          20.99            0.00   \n",
       "4       871652.0  ...  5405        60          13.36            0.00   \n",
       "...          ...  ...   ...       ...            ...             ...   \n",
       "16259   278839.0  ...  5405        60          13.90            0.00   \n",
       "16260   278839.0  ...  5405        60          19.97            0.00   \n",
       "16261   278839.0  ...  5405        60          13.89            0.00   \n",
       "16262        NaN  ...  1102         0         884.69          884.69   \n",
       "16263        NaN  ...  1403        60       11016.09            0.00   \n",
       "\n",
       "       ICMS Aliq.  ICMS Crédito / Débito  ICMS Isento  ICMS Outros  \\\n",
       "0             0.0                   0.00          0.0        34.20   \n",
       "1             0.0                   0.00          0.0        19.99   \n",
       "2             0.0                   0.00          0.0        20.99   \n",
       "3             0.0                   0.00          0.0        20.99   \n",
       "4             0.0                   0.00          0.0        13.36   \n",
       "...           ...                    ...          ...          ...   \n",
       "16259         0.0                   0.00          0.0        13.90   \n",
       "16260         0.0                   0.00          0.0        19.97   \n",
       "16261         0.0                   0.00          0.0        13.89   \n",
       "16262        18.0                 159.17          0.0         0.00   \n",
       "16263         0.0                   0.00          0.0     11016.09   \n",
       "\n",
       "       ICMS ST Valor  Observações  \n",
       "0                  0          NaN  \n",
       "1                  0          NaN  \n",
       "2                  0          NaN  \n",
       "3                  0          NaN  \n",
       "4                  0          NaN  \n",
       "...              ...          ...  \n",
       "16259              0          NaN  \n",
       "16260              0          NaN  \n",
       "16261              0          NaN  \n",
       "16262              0          NaN  \n",
       "16263              0          NaN  \n",
       "\n",
       "[16264 rows x 24 columns]"
      ]
     },
     "metadata": {},
     "output_type": "display_data"
    }
   ],
   "source": [
    "arq_df = pd.read_excel('Entradas_Saidas_Betofarma.xlsx', engine='openpyxl')\n",
    "display(arq_df)"
   ]
  },
  {
   "cell_type": "markdown",
   "id": "8c9fe166",
   "metadata": {},
   "source": [
    "### Manipulando a data da coluna movimento\n",
    "\n",
    "É necessário que o formato final da data nessa coluna seja: d/m/y"
   ]
  },
  {
   "cell_type": "code",
   "execution_count": 6,
   "id": "ea2df2b7",
   "metadata": {
    "ExecuteTime": {
     "end_time": "2023-01-15T22:46:34.403533Z",
     "start_time": "2023-01-15T22:46:34.281854Z"
    },
    "scrolled": true
   },
   "outputs": [
    {
     "data": {
      "text/plain": [
       "0        01/01/2022\n",
       "1        01/01/2022\n",
       "2        01/01/2022\n",
       "3        01/01/2022\n",
       "4        01/01/2022\n",
       "            ...    \n",
       "16259    31/01/2022\n",
       "16260    31/01/2022\n",
       "16261    31/01/2022\n",
       "16262    31/01/2022\n",
       "16263    31/01/2022\n",
       "Name: Movimento, Length: 16264, dtype: object"
      ]
     },
     "execution_count": 6,
     "metadata": {},
     "output_type": "execute_result"
    }
   ],
   "source": [
    "arq_df['Movimento'] = pd.to_datetime(arq_df['Movimento'], format='%Y-%m-%d', errors='coerce')\n",
    "arq_df['Movimento'] = arq_df['Movimento'].astype('datetime64[ns]')\n",
    "arq_df['Movimento'] = arq_df['Movimento'].dt.strftime(\"%d/%m/%Y\")\n",
    "arq_df['Movimento']"
   ]
  },
  {
   "cell_type": "markdown",
   "id": "13ff399a",
   "metadata": {},
   "source": [
    "### Soma de formulário com nomes vazios"
   ]
  },
  {
   "cell_type": "markdown",
   "id": "35a8ce4b",
   "metadata": {},
   "source": [
    "Somar valor contábil e ICMS crédito/débito que são de \"Formulário: Venda PDV\" na mesma data de \"Movimento\" e da mesma \"Empresa\""
   ]
  },
  {
   "cell_type": "markdown",
   "id": "28ea6e56",
   "metadata": {},
   "source": [
    "Alterando a coluna de movimento para formatação de data que será utilizado posteriormente"
   ]
  },
  {
   "cell_type": "code",
   "execution_count": 1,
   "id": "201f190d",
   "metadata": {
    "ExecuteTime": {
     "end_time": "2023-01-15T23:09:44.152733Z",
     "start_time": "2023-01-15T23:09:43.989095Z"
    }
   },
   "outputs": [
    {
     "ename": "NameError",
     "evalue": "name 'vendas_pdv_df' is not defined",
     "output_type": "error",
     "traceback": [
      "\u001b[1;31m---------------------------------------------------------------------------\u001b[0m",
      "\u001b[1;31mNameError\u001b[0m                                 Traceback (most recent call last)",
      "\u001b[1;32m~\\AppData\\Local\\Temp\\ipykernel_16940\\3004005505.py\u001b[0m in \u001b[0;36m<module>\u001b[1;34m\u001b[0m\n\u001b[1;32m----> 1\u001b[1;33m vendas_pdv_3_df = vendas_pdv_df.groupby(['Formulário',\n\u001b[0m\u001b[0;32m      2\u001b[0m                                          \u001b[1;34m'Tipo E/S'\u001b[0m\u001b[1;33m,\u001b[0m\u001b[1;33m\u001b[0m\u001b[1;33m\u001b[0m\u001b[0m\n\u001b[0;32m      3\u001b[0m                                          \u001b[1;34m'Empresa'\u001b[0m\u001b[1;33m,\u001b[0m\u001b[1;33m\u001b[0m\u001b[1;33m\u001b[0m\u001b[0m\n\u001b[0;32m      4\u001b[0m                                          'Movimento'])[['Valor Contábil', 'ICMS Crédito / Débito']].sum().reset_index()\n\u001b[0;32m      5\u001b[0m \u001b[1;33m\u001b[0m\u001b[0m\n",
      "\u001b[1;31mNameError\u001b[0m: name 'vendas_pdv_df' is not defined"
     ]
    }
   ],
   "source": [
    "vendas_pdv_df = arq_df.loc[arq_df['Formulário'] == 'Vendas PDV',\n",
    "                                 [\"Formulário\", \"Tipo E/S\", \"Movimento\", \"Empresa\", \"Valor Contábil\", \n",
    "                                  \"ICMS Crédito / Débito\"]]\n",
    "\n",
    "display(vendas_pdv_df)\n",
    "\n",
    "vendas_pdv_3_df = vendas_pdv_df.groupby(['Formulário',\n",
    "                                         'Tipo E/S',\n",
    "                                         'Empresa',\n",
    "                                         'Movimento'])[['Valor Contábil', 'ICMS Crédito / Débito']].sum().reset_index()\n",
    "\n",
    "display(vendas_pdv_3_df)"
   ]
  },
  {
   "cell_type": "markdown",
   "id": "d7e5cce3",
   "metadata": {
    "ExecuteTime": {
     "end_time": "2023-01-15T22:38:15.555134Z",
     "start_time": "2023-01-15T22:38:15.536156Z"
    },
    "heading_collapsed": true
   },
   "source": [
    "## Construção do arquivo final"
   ]
  },
  {
   "cell_type": "markdown",
   "id": "e092ea76",
   "metadata": {
    "hidden": true
   },
   "source": [
    "### Condição para arquivo final"
   ]
  },
  {
   "cell_type": "markdown",
   "id": "351e31bb",
   "metadata": {
    "hidden": true
   },
   "source": [
    "#### dePara_VlrContábil_e_ICMS"
   ]
  },
  {
   "cell_type": "markdown",
   "id": "0391219b",
   "metadata": {
    "hidden": true
   },
   "source": [
    "Vendas PDV: contábil credito: 319, contabil debito 37\n",
    "ICMS s/ Vendas PDV: contabil credito: 243, contabil debito 327\n",
    "PIS s/ Vendas PDV: credito 246, debito 329\n",
    "COFINS s/ Vendas PDV: credito 241, debito 326\n",
    "Nota de Devolução de Compras + NF e coluna numero + coluna nome: credito 80, debito 204\n",
    "    \n",
    "Digitação de NF de Faturamento + NF e coluna numero + coluna nome (saída):  \n",
    "    Se CFOPS 5927, debito 592, credito 80\n",
    "    Se CFOPS diferente de 5927 mas o NOME é DrogaEx, credito 80, debito 92\n",
    "    Se CFOPS diferente de tudo isso, credito 341, debito 144\n",
    "    \n",
    "ICMS s/ Digitação de NF de Faturamento + NF e coluna numero + coluna nome (saída): credito 243, debito 347\n",
    "\n",
    "Digitação de NF de Faturamento + NF e coluna numero + coluna nome (entrada):  \n",
    "    Se o NOME é DrogaEx, credito 93, debito 80\n",
    "    Se o NOME diferente de DrogaEX, credito 10000, debito 20000\n",
    "    \n",
    "ICMS s/ Digitação de NF de Faturamento + NF e coluna numero + coluna nome (entradas): credito 80, debito 59\n",
    "\n",
    "Devolução de Produtos Caixas + NF e coluna numero + coluna nome: credito 41, debito 332\n",
    "ICMS s/ Devolução de Produtos Caixas + NF e coluna numero + coluna nome: credito 80, debito 59\n",
    "\n",
    "Nota Fiscal de Compra e Outras Entradas + NF e coluna numero + coluna nome: \n",
    "    Se o NOME é DBR ou conter, credito 10055 e debito 374\n",
    "    Se o NOME é ou contém BETOFARMA, DELMAR, DOTTO, DEMAC, DROGAEX, EX NG, POA, METROFARMA,    MIYAFARMA, NOVA CAIEIRAS e DROGAROMERO, credito 217 e debito 80\n",
    "    Se o NOME é diferente disso tudo, credito 204, debito 80\n",
    "    \n",
    "ICMS s/ Nota Fiscal de Compra e Outras Entradas + NF e coluna numero + coluna nome: credito 80, debito 59"
   ]
  },
  {
   "cell_type": "markdown",
   "id": "11fcc949",
   "metadata": {
    "hidden": true
   },
   "source": [
    "#### dePara_PIS_e_COFINS"
   ]
  },
  {
   "cell_type": "markdown",
   "id": "2bb25df1",
   "metadata": {
    "hidden": true
   },
   "source": [
    "Tudo que for TIPO E/S: E, PIS (debito 63 e credito 80) e COFINS (debito 57 e credito 80)\n",
    "\n",
    "Tudo que for TIPO E/S: S, PIS (debito 63 e credito 80) e COFINS (debito 57 e credito 80)\n",
    "    PIS: Digitação de NF de Faturamento + NF e coluna numero + coluna nome (saída): credito 246, debito 349\n",
    "    COFINS: Digitação de NF de Faturamento + NF e coluna numero + coluna nome (saída): credito 241, debito 346"
   ]
  },
  {
   "cell_type": "code",
   "execution_count": null,
   "id": "02d0f7b6",
   "metadata": {
    "hidden": true
   },
   "outputs": [],
   "source": []
  }
 ],
 "metadata": {
  "kernelspec": {
   "display_name": "Python 3 (ipykernel)",
   "language": "python",
   "name": "python3"
  },
  "language_info": {
   "codemirror_mode": {
    "name": "ipython",
    "version": 3
   },
   "file_extension": ".py",
   "mimetype": "text/x-python",
   "name": "python",
   "nbconvert_exporter": "python",
   "pygments_lexer": "ipython3",
   "version": "3.9.13"
  },
  "toc": {
   "base_numbering": 1,
   "nav_menu": {},
   "number_sections": true,
   "sideBar": true,
   "skip_h1_title": false,
   "title_cell": "Table of Contents",
   "title_sidebar": "Contents",
   "toc_cell": false,
   "toc_position": {
    "height": "calc(100% - 180px)",
    "left": "10px",
    "top": "150px",
    "width": "375px"
   },
   "toc_section_display": true,
   "toc_window_display": true
  },
  "vscode": {
   "interpreter": {
    "hash": "8b8a26b70b4daa1db1fbdf15c0cffe35aca51e851a954a9a45a5e8a5a905b65c"
   }
  }
 },
 "nbformat": 4,
 "nbformat_minor": 5
}
