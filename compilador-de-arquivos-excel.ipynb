{
 "cells": [
  {
   "cell_type": "markdown",
   "id": "005bd40b",
   "metadata": {},
   "source": [
    "## Definindo bibliotecas"
   ]
  },
  {
   "cell_type": "markdown",
   "id": "de9e557d",
   "metadata": {},
   "source": [
    "Definição das bibliotecas necessárias para o projeto:\n",
    "\n",
    "1. Pandas: responsável pela manipulação das planilhas em excel (ou dataframes);\n",
    "2. Numpy: responsável pela manipulação matemática dentro dos dataframes;\n",
    "3. Datetime: responsável pela manipulação de datas;\n",
    "4. OS: responsável pela manipulação de recursos do windows;"
   ]
  },
  {
   "cell_type": "code",
   "execution_count": null,
   "id": "2e0ff4e5",
   "metadata": {
    "ExecuteTime": {
     "end_time": "2023-01-15T22:46:30.000278Z",
     "start_time": "2023-01-15T22:46:29.245904Z"
    }
   },
   "outputs": [],
   "source": [
    "import pandas as pd\n",
    "import numpy as np\n",
    "import datetime as dt\n",
    "import os"
   ]
  },
  {
   "cell_type": "markdown",
   "id": "d06acdef",
   "metadata": {
    "ExecuteTime": {
     "end_time": "2022-12-18T23:41:10.204681Z",
     "start_time": "2022-12-18T23:41:10.198697Z"
    }
   },
   "source": [
    "## Parametrizando usuário"
   ]
  },
  {
   "cell_type": "markdown",
   "id": "89d8d91e",
   "metadata": {},
   "source": [
    "Através da biblioteca OS a função .getlogin() retorna o usuário do computador que está rodando o código."
   ]
  },
  {
   "cell_type": "code",
   "execution_count": null,
   "id": "cc70a523",
   "metadata": {
    "ExecuteTime": {
     "end_time": "2023-01-15T22:46:30.016239Z",
     "start_time": "2023-01-15T22:46:30.001275Z"
    }
   },
   "outputs": [],
   "source": [
    "user = os.getlogin()\n",
    "user"
   ]
  },
  {
   "cell_type": "markdown",
   "id": "8a14d993",
   "metadata": {},
   "source": [
    "## Definindo diretório dos arquivos em excel"
   ]
  },
  {
   "cell_type": "markdown",
   "id": "abce83fe",
   "metadata": {},
   "source": [
    "A função .path.join da biblioteca OS irá retornar o caminho do diretório onde estarão os arquivos excel que serão lidos."
   ]
  },
  {
   "cell_type": "code",
   "execution_count": null,
   "id": "be48cd03",
   "metadata": {
    "ExecuteTime": {
     "end_time": "2023-01-15T22:46:30.356882Z",
     "start_time": "2023-01-15T22:46:30.339896Z"
    }
   },
   "outputs": [],
   "source": [
    "dir1 = os.path.join(user, 'Documentos', 'compilador-de-arquivos-excel')\n",
    "dir1"
   ]
  },
  {
   "cell_type": "markdown",
   "id": "dc261c9c",
   "metadata": {},
   "source": [
    "## Tratamento de dados dentro dos arquivos primários"
   ]
  },
  {
   "cell_type": "markdown",
   "id": "8867f40a",
   "metadata": {},
   "source": [
    "### Abertura do excel em um dataframe\n",
    "\n",
    "Através do pandas, formar um dataframe com o arquivo que será modificado"
   ]
  },
  {
   "cell_type": "markdown",
   "id": "c126c442",
   "metadata": {},
   "source": [
    "# Entradas e Saídas"
   ]
  },
  {
   "cell_type": "code",
   "execution_count": null,
   "id": "02db9825",
   "metadata": {
    "scrolled": true
   },
   "outputs": [],
   "source": [
    "EntradasSaidas_df = pd.read_excel('Fiscal_ExMG.xlsx', engine='openpyxl', sheet_name='Entradas_Saídas')\n",
    "display(EntradasSaidas_df)"
   ]
  },
  {
   "cell_type": "markdown",
   "id": "00c9d069",
   "metadata": {},
   "source": [
    "# PIS e COFINS"
   ]
  },
  {
   "cell_type": "code",
   "execution_count": null,
   "id": "81770012",
   "metadata": {
    "ExecuteTime": {
     "end_time": "2023-01-15T22:46:34.279860Z",
     "start_time": "2023-01-15T22:46:30.762815Z"
    },
    "scrolled": false
   },
   "outputs": [],
   "source": [
    "PIS_COFINS_df = pd.read_excel('Fiscal_ExMG.xlsx', engine='openpyxl', sheet_name='PIS_COFINS')\n",
    "display(PIS_COFINS_df)"
   ]
  },
  {
   "cell_type": "markdown",
   "id": "8c9fe166",
   "metadata": {},
   "source": [
    "### Manipulando a data da coluna movimento\n",
    "\n",
    "É necessário que o formato final da data nessa coluna seja: d/m/y"
   ]
  },
  {
   "cell_type": "code",
   "execution_count": null,
   "id": "ea2df2b7",
   "metadata": {
    "ExecuteTime": {
     "end_time": "2023-01-15T22:46:34.403533Z",
     "start_time": "2023-01-15T22:46:34.281854Z"
    },
    "scrolled": true
   },
   "outputs": [],
   "source": [
    "PIS_COFINS_df['Movimento'] = pd.to_datetime(PIS_COFINS_df['Movimento'], format='%Y-%m-%d', errors='coerce')\n",
    "PIS_COFINS_df['Movimento'] = PIS_COFINS_df['Movimento'].astype('datetime64[ns]')\n",
    "PIS_COFINS_df['Movimento'] = PIS_COFINS_df['Movimento'].dt.strftime(\"%d/%m/%Y\")\n",
    "PIS_COFINS_df['Movimento']"
   ]
  },
  {
   "cell_type": "code",
   "execution_count": null,
   "id": "d6994d7b",
   "metadata": {},
   "outputs": [],
   "source": [
    "EntradasSaidas_df['Movimento'] = pd.to_datetime(EntradasSaidas_df['Movimento'], format='%Y-%m-%d', errors='coerce')\n",
    "EntradasSaidas_df['Movimento'] = EntradasSaidas_df['Movimento'].astype('datetime64[ns]')\n",
    "EntradasSaidas_df['Movimento'] = EntradasSaidas_df['Movimento'].dt.strftime(\"%d/%m/%Y\")\n",
    "EntradasSaidas_df['Movimento']"
   ]
  },
  {
   "cell_type": "markdown",
   "id": "13ff399a",
   "metadata": {},
   "source": [
    "## Soma de formulário com nomes vazios"
   ]
  },
  {
   "cell_type": "markdown",
   "id": "956dfe9c",
   "metadata": {},
   "source": [
    "### PIS e COFINS"
   ]
  },
  {
   "cell_type": "markdown",
   "id": "6e145f29",
   "metadata": {},
   "source": [
    "Somar valores de \"PIS Débito\" e \"COFINS Débito\" que são de \"Formulário: Venda PDV\" na mesma data de \"Movimento\" e da mesma \"Empresa\"."
   ]
  },
  {
   "cell_type": "markdown",
   "id": "28ea6e56",
   "metadata": {},
   "source": [
    "Alterando a coluna de movimento para formatação de data que será utilizado posteriormente"
   ]
  },
  {
   "cell_type": "markdown",
   "id": "0e2cc14e",
   "metadata": {},
   "source": [
    "#### Atribuindo Nome Em formulários sem valor atribuido."
   ]
  },
  {
   "cell_type": "code",
   "execution_count": null,
   "id": "7e77adcb",
   "metadata": {},
   "outputs": [],
   "source": [
    "PIS_COFINS_df['Formulário'] = PIS_COFINS_df['Formulário'].fillna('Vendas PDV')\n",
    "display(PIS_COFINS_df)\n"
   ]
  },
  {
   "cell_type": "markdown",
   "id": "7c2a3573",
   "metadata": {},
   "source": [
    "#### Destacando Formulários, Empresas, Movimento,  COFINS Débito e PIS Débito em relação às Vendas PDV do DataFrame."
   ]
  },
  {
   "cell_type": "code",
   "execution_count": null,
   "id": "4d4d3831",
   "metadata": {},
   "outputs": [],
   "source": [
    "VendasPDV_PisCofins_df = PIS_COFINS_df.loc[PIS_COFINS_df['Formulário'] == 'Vendas PDV', ['Formulário',\n",
    "                                                                                'Tipo E/S', 'Empresa',\n",
    "                                                                                'Movimento', 'Emissão', \n",
    "                                                                                'COFINS Débito', 'PIS Débito']]                                           \n",
    "display(VendasPDV_PisCofins_df)\n"
   ]
  },
  {
   "cell_type": "markdown",
   "id": "01dfd1e1",
   "metadata": {},
   "source": [
    "#### Somando COFINS Débito e PIS Débito de mesma data de Movimento e Empresa."
   ]
  },
  {
   "cell_type": "code",
   "execution_count": null,
   "id": "a5f37011",
   "metadata": {
    "scrolled": true
   },
   "outputs": [],
   "source": [
    "SomaVendasPDV_PisCofins_df = VendasPDV_PisCofins_df.groupby(['Formulário', 'Tipo E/S', \n",
    "                                                    'Empresa', 'Movimento' \n",
    "                                                    ])[['COFINS Débito', 'PIS Débito']].sum().reset_index()\n",
    "display(SomaVendasPDV_PisCofins_df)"
   ]
  },
  {
   "cell_type": "markdown",
   "id": "f14f938e",
   "metadata": {},
   "source": [
    "### Entradas e Saídas"
   ]
  },
  {
   "cell_type": "markdown",
   "id": "205703ea",
   "metadata": {},
   "source": [
    "Somar valor contábil e ICMS crédito/débito que são de \"Formulário: Venda PDV\" na mesma data de \"Movimento\" e da mesma \"Empresa\""
   ]
  },
  {
   "cell_type": "markdown",
   "id": "1a31f539",
   "metadata": {},
   "source": [
    "Alterando a coluna de movimento para formatação de data que será utilizado posteriormente"
   ]
  },
  {
   "cell_type": "code",
   "execution_count": null,
   "id": "201f190d",
   "metadata": {
    "ExecuteTime": {
     "end_time": "2023-01-15T23:09:44.152733Z",
     "start_time": "2023-01-15T23:09:43.989095Z"
    }
   },
   "outputs": [],
   "source": [
    "vendas_pdv_df = EntradasSaidas_df.loc[EntradasSaidas_df['Formulário'] == 'Vendas PDV',\n",
    "                                 [\"Formulário\", \"Tipo E/S\", \"Movimento\", \"Empresa\", \"Valor Contábil\", \n",
    "                                  \"ICMS Crédito / Débito\"]]\n",
    "\n",
    "display(vendas_pdv_df)\n",
    "\n",
    "vendas_pdv_3_df = vendas_pdv_df.groupby(['Formulário',\n",
    "                                         'Tipo E/S',\n",
    "                                         'Empresa',\n",
    "                                         'Movimento'])[['Valor Contábil', 'ICMS Crédito / Débito']].sum().reset_index()\n",
    "\n",
    "display(vendas_pdv_3_df)"
   ]
  },
  {
   "cell_type": "markdown",
   "id": "e092ea76",
   "metadata": {
    "hidden": true
   },
   "source": [
    "### Condição para arquivo final"
   ]
  },
  {
   "cell_type": "markdown",
   "id": "351e31bb",
   "metadata": {
    "hidden": true
   },
   "source": [
    "#### dePara_VlrContábil_e_ICMS"
   ]
  },
  {
   "cell_type": "markdown",
   "id": "0391219b",
   "metadata": {
    "hidden": true
   },
   "source": [
    "Vendas PDV: contábil credito: 319, contabil debito 37\n",
    "ICMS s/ Vendas PDV: contabil credito: 243, contabil debito 327\n",
    "PIS s/ Vendas PDV: credito 246, debito 329\n",
    "COFINS s/ Vendas PDV: credito 241, debito 326\n",
    "Nota de Devolução de Compras + NF e coluna numero + coluna nome: credito 80, debito 204\n",
    "    \n",
    "Digitação de NF de Faturamento + NF e coluna numero + coluna nome (saída):  \n",
    "    Se CFOPS 5927, debito 592, credito 80\n",
    "    Se CFOPS diferente de 5927 mas o NOME é DrogaEx, credito 80, debito 92\n",
    "    Se CFOPS diferente de tudo isso, credito 341, debito 144\n",
    "    \n",
    "ICMS s/ Digitação de NF de Faturamento + NF e coluna numero + coluna nome (saída): credito 243, debito 347\n",
    "\n",
    "Digitação de NF de Faturamento + NF e coluna numero + coluna nome (entrada):  \n",
    "    Se o NOME é DrogaEx, credito 93, debito 80\n",
    "    Se o NOME diferente de DrogaEX, credito 10000, debito 20000\n",
    "    \n",
    "ICMS s/ Digitação de NF de Faturamento + NF e coluna numero + coluna nome (entradas): credito 80, debito 59\n",
    "\n",
    "Devolução de Produtos Caixas + NF e coluna numero + coluna nome: credito 41, debito 332\n",
    "ICMS s/ Devolução de Produtos Caixas + NF e coluna numero + coluna nome: credito 80, debito 59\n",
    "\n",
    "Nota Fiscal de Compra e Outras Entradas + NF e coluna numero + coluna nome: \n",
    "    Se o NOME é DBR ou conter, credito 10055 e debito 374\n",
    "    Se o NOME é ou contém BETOFARMA, DELMAR, DOTTO, DEMAC, DROGAEX, EX NG, POA, METROFARMA,    MIYAFARMA, NOVA CAIEIRAS e DROGAROMERO, credito 217 e debito 80\n",
    "    Se o NOME é diferente disso tudo, credito 204, debito 80\n",
    "    \n",
    "ICMS s/ Nota Fiscal de Compra e Outras Entradas + NF e coluna numero + coluna nome: credito 80, debito 59"
   ]
  },
  {
   "cell_type": "markdown",
   "id": "11fcc949",
   "metadata": {
    "hidden": true
   },
   "source": [
    "#### dePara_PIS_e_COFINS"
   ]
  },
  {
   "cell_type": "markdown",
   "id": "2bb25df1",
   "metadata": {
    "hidden": true
   },
   "source": [
    "Tudo que for TIPO E/S: E, PIS (debito 63 e credito 80) e COFINS (debito 57 e credito 80)\n",
    "\n",
    "Tudo que for TIPO E/S: S, PIS (debito 63 e credito 80) e COFINS (debito 57 e credito 80)\n",
    "    PIS: Digitação de NF de Faturamento + NF e coluna numero + coluna nome (saída): credito 246, debito 349\n",
    "    COFINS: Digitação de NF de Faturamento + NF e coluna numero + coluna nome (saída): credito 241, debito 346"
   ]
  },
  {
   "cell_type": "code",
   "execution_count": null,
   "id": "02d0f7b6",
   "metadata": {
    "hidden": true
   },
   "outputs": [],
   "source": []
  }
 ],
 "metadata": {
  "kernelspec": {
   "display_name": "Python 3 (ipykernel)",
   "language": "python",
   "name": "python3"
  },
  "language_info": {
   "codemirror_mode": {
    "name": "ipython",
    "version": 3
   },
   "file_extension": ".py",
   "mimetype": "text/x-python",
   "name": "python",
   "nbconvert_exporter": "python",
   "pygments_lexer": "ipython3",
   "version": "3.9.12"
  },
  "toc": {
   "base_numbering": 1,
   "nav_menu": {},
   "number_sections": true,
   "sideBar": true,
   "skip_h1_title": false,
   "title_cell": "Table of Contents",
   "title_sidebar": "Contents",
   "toc_cell": false,
   "toc_position": {
    "height": "calc(100% - 180px)",
    "left": "10px",
    "top": "150px",
    "width": "375px"
   },
   "toc_section_display": true,
   "toc_window_display": true
  },
  "vscode": {
   "interpreter": {
    "hash": "8b8a26b70b4daa1db1fbdf15c0cffe35aca51e851a954a9a45a5e8a5a905b65c"
   }
  }
 },
 "nbformat": 4,
 "nbformat_minor": 5
}
