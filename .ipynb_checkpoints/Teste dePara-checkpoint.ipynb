{
 "cells": [
  {
   "cell_type": "code",
   "execution_count": 1,
   "id": "d58854dc",
   "metadata": {
    "ExecuteTime": {
     "end_time": "2023-04-06T19:32:15.379702Z",
     "start_time": "2023-04-06T19:32:14.604206Z"
    }
   },
   "outputs": [],
   "source": [
    "import pandas as pd"
   ]
  },
  {
   "cell_type": "code",
   "execution_count": 5,
   "id": "b67c5190",
   "metadata": {
    "ExecuteTime": {
     "end_time": "2023-04-06T19:33:12.634845Z",
     "start_time": "2023-04-06T19:33:12.616894Z"
    }
   },
   "outputs": [
    {
     "data": {
      "text/html": [
       "<div>\n",
       "<style scoped>\n",
       "    .dataframe tbody tr th:only-of-type {\n",
       "        vertical-align: middle;\n",
       "    }\n",
       "\n",
       "    .dataframe tbody tr th {\n",
       "        vertical-align: top;\n",
       "    }\n",
       "\n",
       "    .dataframe thead th {\n",
       "        text-align: right;\n",
       "    }\n",
       "</style>\n",
       "<table border=\"1\" class=\"dataframe\">\n",
       "  <thead>\n",
       "    <tr style=\"text-align: right;\">\n",
       "      <th></th>\n",
       "      <th>Complemento Histórico</th>\n",
       "      <th>Cód. Contábil Débito</th>\n",
       "      <th>Cód. Contábil Crédito</th>\n",
       "    </tr>\n",
       "  </thead>\n",
       "  <tbody>\n",
       "    <tr>\n",
       "      <th>0</th>\n",
       "      <td>Vendas PDV</td>\n",
       "      <td>37</td>\n",
       "      <td>319</td>\n",
       "    </tr>\n",
       "    <tr>\n",
       "      <th>1</th>\n",
       "      <td>ICMS s/ Vendas PDV</td>\n",
       "      <td>327</td>\n",
       "      <td>243</td>\n",
       "    </tr>\n",
       "    <tr>\n",
       "      <th>2</th>\n",
       "      <td>PIS s/ Vendas PDV</td>\n",
       "      <td>326</td>\n",
       "      <td>241</td>\n",
       "    </tr>\n",
       "    <tr>\n",
       "      <th>3</th>\n",
       "      <td>COFINS s/ Vendas PDV</td>\n",
       "      <td>37</td>\n",
       "      <td>319</td>\n",
       "    </tr>\n",
       "    <tr>\n",
       "      <th>4</th>\n",
       "      <td>Nota de Devolução de Compras</td>\n",
       "      <td>204</td>\n",
       "      <td>80</td>\n",
       "    </tr>\n",
       "    <tr>\n",
       "      <th>5</th>\n",
       "      <td>Devolução de Produtos Caixas</td>\n",
       "      <td>332</td>\n",
       "      <td>41</td>\n",
       "    </tr>\n",
       "    <tr>\n",
       "      <th>6</th>\n",
       "      <td>ICMS s/ Devolução de Produtos Caixas</td>\n",
       "      <td>59</td>\n",
       "      <td>80</td>\n",
       "    </tr>\n",
       "    <tr>\n",
       "      <th>7</th>\n",
       "      <td>PIS s/ Digitação de NF de Faturamento</td>\n",
       "      <td>349</td>\n",
       "      <td>246</td>\n",
       "    </tr>\n",
       "    <tr>\n",
       "      <th>8</th>\n",
       "      <td>CONFIS s/ Digitação de NF de Faturamento</td>\n",
       "      <td>349</td>\n",
       "      <td>241</td>\n",
       "    </tr>\n",
       "  </tbody>\n",
       "</table>\n",
       "</div>"
      ],
      "text/plain": [
       "                      Complemento Histórico Cód. Contábil Débito  \\\n",
       "0                                Vendas PDV                   37   \n",
       "1                        ICMS s/ Vendas PDV                  327   \n",
       "2                         PIS s/ Vendas PDV                  326   \n",
       "3                      COFINS s/ Vendas PDV                   37   \n",
       "4              Nota de Devolução de Compras                  204   \n",
       "5              Devolução de Produtos Caixas                  332   \n",
       "6      ICMS s/ Devolução de Produtos Caixas                   59   \n",
       "7     PIS s/ Digitação de NF de Faturamento                  349   \n",
       "8  CONFIS s/ Digitação de NF de Faturamento                  349   \n",
       "\n",
       "  Cód. Contábil Crédito  \n",
       "0                   319  \n",
       "1                   243  \n",
       "2                   241  \n",
       "3                   319  \n",
       "4                    80  \n",
       "5                    41  \n",
       "6                    80  \n",
       "7                   246  \n",
       "8                   241  "
      ]
     },
     "execution_count": 5,
     "metadata": {},
     "output_type": "execute_result"
    }
   ],
   "source": [
    "dePara = {\n",
    "    'Complemento Histórico': ['Vendas PDV', 'ICMS s/ Vendas PDV', 'PIS s/ Vendas PDV', \n",
    "                 'COFINS s/ Vendas PDV', 'Nota de Devolução de Compras', \n",
    "                 'Devolução de Produtos Caixas', 'ICMS s/ Devolução de Produtos Caixas',\n",
    "                 'PIS s/ Digitação de NF de Faturamento', 'CONFIS s/ Digitação de NF de Faturamento'], \n",
    "    'Cód. Contábil Débito': ['37', '327', '326', '37', '204', '332', '59', '349', '349'], \n",
    "    'Cód. Contábil Crédito': ['319', '243', '241', '319', '80', '41', '80', '246', '241'],\n",
    "}\n",
    "        \n",
    "dePara_df = pd.DataFrame(dePara)\n",
    "dePara_df"
   ]
  },
  {
   "cell_type": "code",
   "execution_count": null,
   "id": "08468fd7",
   "metadata": {},
   "outputs": [],
   "source": []
  }
 ],
 "metadata": {
  "kernelspec": {
   "display_name": "Python 3 (ipykernel)",
   "language": "python",
   "name": "python3"
  },
  "language_info": {
   "codemirror_mode": {
    "name": "ipython",
    "version": 3
   },
   "file_extension": ".py",
   "mimetype": "text/x-python",
   "name": "python",
   "nbconvert_exporter": "python",
   "pygments_lexer": "ipython3",
   "version": "3.9.13"
  },
  "toc": {
   "base_numbering": 1,
   "nav_menu": {},
   "number_sections": true,
   "sideBar": true,
   "skip_h1_title": false,
   "title_cell": "Table of Contents",
   "title_sidebar": "Contents",
   "toc_cell": false,
   "toc_position": {},
   "toc_section_display": true,
   "toc_window_display": false
  }
 },
 "nbformat": 4,
 "nbformat_minor": 5
}
